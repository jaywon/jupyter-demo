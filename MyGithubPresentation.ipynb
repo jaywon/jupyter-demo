{
 "cells": [
  {
   "cell_type": "markdown",
   "metadata": {
    "nbpresent": {
     "id": "f0e8a812-385e-4680-87ea-c780aa945d20"
    }
   },
   "source": [
    "<h1 style=\"text-align:center; font-size:48px\">Jupyter Notebook & Github</h1>\n",
    "\n",
    "<h2 style=\"text-align:center; font-size:32px\">A Match Made In......</h2>\n",
    "<h2 style=\"text-align:center; font-size:32px\">......Outer Space??</h2>"
   ]
  },
  {
   "cell_type": "markdown",
   "metadata": {
    "nbpresent": {
     "id": "cf961ae9-9644-4ae0-8a0d-0c14bc0d15eb"
    }
   },
   "source": [
    "<div style=\"width:100%;height:120px;\">\n",
    "    <span style=\"inline-block;width:30%;text-align:center;\">\n",
    "        <img src=\"devleague.png\" alt=\"DevLeague\" style=\"width: 200px;display:inline-block;margin-left:30px;margin-right:400px;\"/>\n",
    "    </span>\n",
    "    <span style=\"inline-block;width:30%\">\n",
    "        &nbsp;\n",
    "    </span>\n",
    "    <span style=\"inline-block;width:30%;text-align:center;\">\n",
    "        <img src=\"pyhawaii.png\" alt=\"PyHawaii\" style=\"width: 200px;display:inline-block;\"/>\n",
    "    </span>\n",
    "</div>"
   ]
  },
  {
   "cell_type": "markdown",
   "metadata": {
    "nbpresent": {
     "id": "0c828717-470a-4c8b-896f-a0d0d2e9dd31"
    }
   },
   "source": [
    "<img src=\"devleague.png\" alt=\"DevLeague\" style=\"width: 200px;\"/>"
   ]
  },
  {
   "cell_type": "markdown",
   "metadata": {
    "nbpresent": {
     "id": "87f681c3-dd53-4092-8f34-4e814bddc2a1"
    }
   },
   "source": [
    "<img src=\"pyhawaii.png\" alt=\"PyHawaii\" style=\"width: 200px;\"/>"
   ]
  },
  {
   "cell_type": "markdown",
   "metadata": {
    "nbpresent": {
     "id": "91a71123-30c6-47f6-8b43-1bf9c5f4b618"
    }
   },
   "source": [
    "\n",
    "<img src=\"jupyter-logo.png\" alt=\"Jupyter\" style=\"width: 200px;\"/>\n"
   ]
  },
  {
   "cell_type": "markdown",
   "metadata": {
    "nbpresent": {
     "id": "d89289a1-41dc-4285-936b-cc4b4383bbd8"
    }
   },
   "source": [
    "<img src=\"github-logo.jpg\" alt=\"Github\" style=\"width: 200px;\"/>"
   ]
  },
  {
   "cell_type": "markdown",
   "metadata": {
    "nbpresent": {
     "id": "6e5a459f-5b7e-4aee-a05d-b40b85b2c8f3"
    }
   },
   "source": [
    "<div style=\"text-align:center;\">\n",
    "    <h1>What are Git and GitHub?</h1>\n",
    "    \n",
    "</div>\n",
    "\n",
    "* **Git** is a command line utility installed on your _local_ computer to record history of changes to files\n",
    "* **GitHub** is a social based website for storing your changes to files _remotely_ and to **collaborate** with others\n",
    "<div style=\"text-align:center;\">\n",
    "    <div>\n",
    "        <img src=\"github-logo.jpg\" alt=\"Github\" style=\"width: 200px;display:inline-block;margin-right:50px\"/>\n",
    "        <img src=\"git-logo.png\" alt=\"Git\" style=\"width: 200px;display:inline-block;\"/>\n",
    "    </div>\n",
    "</div>"
   ]
  },
  {
   "cell_type": "markdown",
   "metadata": {
    "nbpresent": {
     "id": "24e2fa6f-7632-4c63-aa3d-448ccedde0fb"
    }
   },
   "source": [
    "<div style=\"text-align:center;margin-bottom:30px;\">\n",
    "    <h1>What is Git?</h1>\n",
    "</div>\n",
    "<div style=\"text-align:center;margin-bottom:50px;\">\n",
    "    <h4>git n. - a person, especially a man, who is stupid or unpleasant;</h4>\n",
    "</div>\n",
    "<div style=\"text-align:center;margin-bottom:30px;\">\n",
    "    <h1>What is Git Really?</h1>\n",
    "</div>\n",
    "<div style=\"text-align:center;margin-bottom:30px;\">\n",
    "    <h4>Git is a <span style=\"font-style:italic;\">Distributed Version Control System</span> that allows people/developers to collaborate and save changes to files in their projects\n",
    "    </h4>\n",
    "</div>\n",
    "<div style=\"text-align:center;\">\n",
    "    <div>\n",
    "        <img src=\"git-logo.png\" alt=\"Git\" style=\"width: 200px;display:inline-block;\"/>\n",
    "    </div>\n",
    "</div>"
   ]
  },
  {
   "cell_type": "markdown",
   "metadata": {
    "nbpresent": {
     "id": "2aa6347a-5587-440d-8ec0-c85168ff1ae0"
    }
   },
   "source": [
    "<div style=\"text-align:center;margin-bottom:30px;\">\n",
    "    <h1>What is GitHub?</h1>\n",
    "</div>\n",
    "<div style=\"text-align:center;margin-bottom:50px;\">\n",
    "    <h4>GitHub is simply a public website and social network exposing Git remote servers</h4>\n",
    "</div>\n",
    "<div style=\"text-align:center;margin-bottom:50px;\">\n",
    "    <h4>GitHub hosts some of the worlds most widely used code repositories from some of the most well known software developers in the world</h4>\n",
    "</div>\n",
    "<div style=\"text-align:center;margin-bottom:50px;\">\n",
    "    <h4>GitHub is a great way to <span style=\"font-style:italic;\">learn, contribute, share and grow.</span></h4>\n",
    "</div>\n",
    "\n",
    "<div style=\"text-align:center;\">\n",
    "    <div>\n",
    "        <img src=\"github-logo.jpg\" alt=\"Git\" style=\"width: 200px;display:inline-block;\"/>\n",
    "    </div>\n",
    "</div>"
   ]
  },
  {
   "cell_type": "markdown",
   "metadata": {
    "nbpresent": {
     "id": "b3471879-3ad4-4538-864d-8aa1da442dfb"
    }
   },
   "source": [
    "<div style=\"text-align:center;\">\n",
    "    <h1>Create A Github Acccount</h1>\n",
    "    <h4><a href=\"https://github.com\">https://github.com</a></h4>\n",
    "    <img src=\"github-signup.png\" alt=\"Github Signup\" style=\"width: 400px;\"/>\n",
    "    <h4>IMPORTANT: This is how you will forever be known....choose wisely young padowan.</h4>\n",
    "</div>"
   ]
  },
  {
   "cell_type": "markdown",
   "metadata": {
    "nbpresent": {
     "id": "d42b681f-42f5-4c41-b192-95ea7188eb3d"
    }
   },
   "source": [
    "<div style=\"text-align:center;\">\n",
    "    <h1>Create A Github Repository</h1>\n",
    "    <img src=\"github_repo.png\" alt=\"Github\" />\n",
    "    <img src=\"github-repo-3.png\" alt=\"Github\" style=\"width:400px\" />\n",
    "</div>\n",
    "\n",
    "1. Go to github.com\n",
    "2. Select one of the Create New Repository links\n",
    "3. Copy the Git Remote URL for the next step"
   ]
  },
  {
   "cell_type": "markdown",
   "metadata": {
    "nbpresent": {
     "id": "cd43ccfd-92af-4da6-9af1-83de00a136ee"
    }
   },
   "source": [
    "<div style=\"text-align:center;\">\n",
    "    <h1>Initialize Your LOCAL Git Repository</h1>\n",
    "</div>\n",
    "<div style=\"text-align:center;margin-top:30px;\">\n",
    "    <img src=\"git-init.png\" />\n",
    "</div>\n",
    "```shell\n",
    "$ git init\n",
    "```\n",
    "\n",
    "This command must be run in the main project folder and tells git that all the files in this directory or any sub-directories are part of this git project or _repository_"
   ]
  },
  {
   "cell_type": "markdown",
   "metadata": {
    "nbpresent": {
     "id": "b0c9dbdc-dc23-4d3e-b87e-33aff4b400c7"
    }
   },
   "source": [
    "<div style=\"text-align:center;\">\n",
    "    <h1>Connect Your Local Repository To Your GitHub Repository</h1>\n",
    "</div>\n",
    "<div style=\"text-align:center;margin-top:30px;\">\n",
    "    <img src=\"git-remote.png\" />\n",
    "</div>\n",
    "```shell\n",
    "$ git remote add origin git@github.com:jaywon/jupyter-git-demo.git\n",
    "```\n",
    "\n",
    "This is the _critical_ command to create the link between this LOCAL repository and the REMOTE repository on GitHub"
   ]
  },
  {
   "cell_type": "markdown",
   "metadata": {
    "nbpresent": {
     "id": "483fbdd3-ed36-4f1c-b88b-5db0505a6591"
    }
   },
   "source": [
    "<div style=\"text-align:center;\">\n",
    "    <h1>Add Your Files To Git For \"Staging\"</h1>\n",
    "</div>\n",
    "<div style=\"text-align:center;margin-top:30px;\">\n",
    "    <img src=\"git-add.png\" />\n",
    "</div>\n",
    "```shell\n",
    "$ git add MyAwesomeNotebook.ipynb\n",
    "```\n",
    "\n",
    "or add all files:\n",
    "\n",
    "```shell\n",
    "$ git add .\n",
    "```\n",
    "\n",
    "This command adds new files to be _committed_ in the following step."
   ]
  },
  {
   "cell_type": "markdown",
   "metadata": {
    "nbpresent": {
     "id": "f842d741-3df0-4943-92f8-8b9d62c10032"
    }
   },
   "source": [
    "<div style=\"text-align:center;\">\n",
    "    <img src=\"octobiwan.jpg\" alt=\"Github\" style=\"width: 300px;\"/>\n",
    "    <h1>YYYYEEEESSSSSSSS</h1>\n",
    "</div>"
   ]
  },
  {
   "cell_type": "markdown",
   "metadata": {
    "nbpresent": {
     "id": "7ee13d6b-7a82-4036-81ed-8f093dd69e3e"
    }
   },
   "source": [
    "<div style=\"text-align:center;\">\n",
    "    <h1>Commit Your Files To Git</h1>\n",
    "</div>\n",
    "<div style=\"text-align:center;margin-top:30px;\">\n",
    "    <img src=\"git-commit.png\" />\n",
    "</div>\n",
    "```shell\n",
    "$ git commit -m \"Nice historical message to remind me why I made this change.\"\n",
    "```\n",
    "\n",
    "This command is the final \"yes\" I want these changes to be committed to history FOREVER...."
   ]
  },
  {
   "cell_type": "markdown",
   "metadata": {
    "nbpresent": {
     "id": "690a1368-af4d-4d7b-933c-49710456e4fd"
    }
   },
   "source": [
    "<div style=\"text-align:center;\">\n",
    "    <h1>Push Your Files To Your GitHub Repository</h1>\n",
    "</div>\n",
    "\n",
    "This will take all of the local changes that you _committed_ and push them to your GitHub account with a unique commit identifier that will live on forever.\n",
    "\n",
    "The first time you do it add the remote name and the -u(upstream) flag\n",
    "```shell\n",
    "$ git push -u origin master\n",
    "```\n",
    "\n",
    "Every other time after you don't need to tell git the remote tracking branch\n",
    "```shell\n",
    "$ git push\n",
    "```"
   ]
  },
  {
   "cell_type": "markdown",
   "metadata": {
    "nbpresent": {
     "id": "c4378d71-eb96-4ad0-9ac8-11b03d790ad5"
    }
   },
   "source": [
    "<div style=\"text-align:center;\">\n",
    "    <h1>Resources</h1>\n",
    "</div>\n",
    "\n",
    "\n",
    "[Longer Git and Github slides](https://slides.com/jasonsewell/github-git-workflows)\n",
    "\n",
    "[Try Git](https://try.github.io/levels/1/challenges/1)\n",
    "\n",
    "[Git Real - PAID MONEY but good](https://www.codeschool.com/learn/git)\n",
    "\n",
    "#### And of course the best training resource......PRACTICE!!!!"
   ]
  },
  {
   "cell_type": "code",
   "execution_count": null,
   "metadata": {
    "collapsed": true
   },
   "outputs": [],
   "source": []
  }
 ],
 "metadata": {
  "anaconda-cloud": {},
  "kernelspec": {
   "display_name": "Python [default]",
   "language": "python",
   "name": "python3"
  },
  "language_info": {
   "codemirror_mode": {
    "name": "ipython",
    "version": 3
   },
   "file_extension": ".py",
   "mimetype": "text/x-python",
   "name": "python",
   "nbconvert_exporter": "python",
   "pygments_lexer": "ipython3",
   "version": "3.5.2"
  },
  "nbpresent": {
   "slides": {
    "193ab6ff-3bad-4284-9ebc-97dd97ea69b4": {
     "id": "193ab6ff-3bad-4284-9ebc-97dd97ea69b4",
     "prev": "645406b9-cf23-4cd0-82b1-040b44d6aa57",
     "regions": {
      "5101630a-7f75-480e-ad99-46f6d4d90271": {
       "attrs": {
        "height": 1,
        "width": 1,
        "x": 0,
        "y": 0
       },
       "content": {
        "cell": "b0c9dbdc-dc23-4d3e-b87e-33aff4b400c7",
        "part": "source"
       },
       "id": "5101630a-7f75-480e-ad99-46f6d4d90271"
      }
     },
     "theme": "6c1d8fe0-c8e8-42bf-9fc4-b0c9aef0a79e"
    },
    "26d89665-207c-4eee-9b24-ad1645630da5": {
     "id": "26d89665-207c-4eee-9b24-ad1645630da5",
     "prev": "d23ae973-28fa-42ac-9a9a-d7a8d9373ad9",
     "regions": {
      "b6c69743-ca91-4e91-8a0e-811aa75aff26": {
       "attrs": {
        "height": 1,
        "width": 1,
        "x": 0,
        "y": 0
       },
       "content": {
        "cell": "2aa6347a-5587-440d-8ec0-c85168ff1ae0",
        "part": "source"
       },
       "id": "b6c69743-ca91-4e91-8a0e-811aa75aff26"
      }
     },
     "theme": "6c1d8fe0-c8e8-42bf-9fc4-b0c9aef0a79e"
    },
    "34b6d854-bf24-4b80-b2cb-86477d85ef99": {
     "id": "34b6d854-bf24-4b80-b2cb-86477d85ef99",
     "prev": "d1c0f0ef-7c18-4163-b7f3-d58ff1a7e6bf",
     "regions": {
      "7917aaab-2516-420c-ad19-36782782846a": {
       "attrs": {
        "height": 1,
        "width": 1,
        "x": 0,
        "y": 0
       },
       "content": {
        "cell": "f842d741-3df0-4943-92f8-8b9d62c10032",
        "part": "source"
       },
       "id": "7917aaab-2516-420c-ad19-36782782846a"
      }
     },
     "theme": "6c1d8fe0-c8e8-42bf-9fc4-b0c9aef0a79e"
    },
    "645406b9-cf23-4cd0-82b1-040b44d6aa57": {
     "id": "645406b9-cf23-4cd0-82b1-040b44d6aa57",
     "prev": "8de38676-e695-4ed8-a23d-7755dfdb194e",
     "regions": {
      "335de191-0afd-409f-85c1-090cd134284a": {
       "attrs": {
        "height": 1,
        "width": 1,
        "x": 0,
        "y": 0
       },
       "content": {
        "cell": "cd43ccfd-92af-4da6-9af1-83de00a136ee",
        "part": "source"
       },
       "id": "335de191-0afd-409f-85c1-090cd134284a"
      }
     },
     "theme": "6c1d8fe0-c8e8-42bf-9fc4-b0c9aef0a79e"
    },
    "77b5755d-0437-4f6d-a053-f638366d35ad": {
     "id": "77b5755d-0437-4f6d-a053-f638366d35ad",
     "prev": "ff90aacd-57c5-47ab-ada8-c296187665f3",
     "regions": {
      "8ab5d1e0-5d23-4e62-a94e-bb1db43cd1b7": {
       "attrs": {
        "height": 1,
        "width": 1,
        "x": 0,
        "y": 0
       },
       "content": {
        "cell": "7ee13d6b-7a82-4036-81ed-8f093dd69e3e",
        "part": "source"
       },
       "id": "8ab5d1e0-5d23-4e62-a94e-bb1db43cd1b7"
      }
     },
     "theme": "6c1d8fe0-c8e8-42bf-9fc4-b0c9aef0a79e"
    },
    "7eba4ad1-10a5-4953-903b-42b8a7f271c2": {
     "id": "7eba4ad1-10a5-4953-903b-42b8a7f271c2",
     "prev": null,
     "regions": {
      "80f9aa09-43b1-4d59-a373-ed677eefc9fd": {
       "attrs": {
        "height": 0.2,
        "width": 0.4,
        "x": 0.5,
        "y": 0.7
       },
       "content": {
        "cell": "d89289a1-41dc-4285-936b-cc4b4383bbd8",
        "part": "source"
       },
       "id": "80f9aa09-43b1-4d59-a373-ed677eefc9fd"
      },
      "9194ca7e-d91b-45cb-8245-22a2ee2105fd": {
       "attrs": {
        "height": 0.6,
        "width": 0.8,
        "x": 0.1,
        "y": 0.1
       },
       "content": {
        "cell": "f0e8a812-385e-4680-87ea-c780aa945d20",
        "part": "whole"
       },
       "id": "9194ca7e-d91b-45cb-8245-22a2ee2105fd"
      },
      "d6c84003-b083-46fc-9129-366129ead74f": {
       "attrs": {
        "height": 0.2,
        "width": 0.4,
        "x": 0.1,
        "y": 0.7
       },
       "content": {
        "cell": "91a71123-30c6-47f6-8b43-1bf9c5f4b618",
        "part": "source"
       },
       "id": "d6c84003-b083-46fc-9129-366129ead74f"
      }
     },
     "theme": "6c1d8fe0-c8e8-42bf-9fc4-b0c9aef0a79e"
    },
    "8de38676-e695-4ed8-a23d-7755dfdb194e": {
     "id": "8de38676-e695-4ed8-a23d-7755dfdb194e",
     "prev": "26d89665-207c-4eee-9b24-ad1645630da5",
     "regions": {
      "83509274-fe5e-4b8b-8884-0316732f9ad2": {
       "attrs": {
        "height": 1,
        "width": 1,
        "x": 0,
        "y": 0
       },
       "content": {
        "cell": "d42b681f-42f5-4c41-b192-95ea7188eb3d",
        "part": "source"
       },
       "id": "83509274-fe5e-4b8b-8884-0316732f9ad2"
      }
     },
     "theme": "6c1d8fe0-c8e8-42bf-9fc4-b0c9aef0a79e"
    },
    "965abb52-afae-471b-88f0-6e60ce8ec8f4": {
     "id": "965abb52-afae-471b-88f0-6e60ce8ec8f4",
     "prev": "34b6d854-bf24-4b80-b2cb-86477d85ef99",
     "regions": {
      "905a8a53-6198-4a73-a7c7-4ba105c86dee": {
       "attrs": {
        "height": 1,
        "width": 1,
        "x": 0,
        "y": 0
       },
       "content": {
        "cell": "c4378d71-eb96-4ad0-9ac8-11b03d790ad5",
        "part": "source"
       },
       "id": "905a8a53-6198-4a73-a7c7-4ba105c86dee"
      }
     },
     "theme": "6c1d8fe0-c8e8-42bf-9fc4-b0c9aef0a79e"
    },
    "d1c0f0ef-7c18-4163-b7f3-d58ff1a7e6bf": {
     "id": "d1c0f0ef-7c18-4163-b7f3-d58ff1a7e6bf",
     "prev": "77b5755d-0437-4f6d-a053-f638366d35ad",
     "regions": {
      "3899d9c8-0053-47d9-988d-fb004982a091": {
       "attrs": {
        "height": 1,
        "width": 1,
        "x": 0,
        "y": 0
       },
       "content": {
        "cell": "690a1368-af4d-4d7b-933c-49710456e4fd",
        "part": "source"
       },
       "id": "3899d9c8-0053-47d9-988d-fb004982a091"
      }
     },
     "theme": "6c1d8fe0-c8e8-42bf-9fc4-b0c9aef0a79e"
    },
    "d23ae973-28fa-42ac-9a9a-d7a8d9373ad9": {
     "id": "d23ae973-28fa-42ac-9a9a-d7a8d9373ad9",
     "prev": "7eba4ad1-10a5-4953-903b-42b8a7f271c2",
     "regions": {
      "41d0f7ff-1cfb-48bd-8688-82873c08c30e": {
       "attrs": {
        "height": 1,
        "width": 1,
        "x": 0,
        "y": 0
       },
       "content": {
        "cell": "24e2fa6f-7632-4c63-aa3d-448ccedde0fb",
        "part": "source"
       },
       "id": "41d0f7ff-1cfb-48bd-8688-82873c08c30e"
      }
     },
     "theme": "6c1d8fe0-c8e8-42bf-9fc4-b0c9aef0a79e"
    },
    "ff90aacd-57c5-47ab-ada8-c296187665f3": {
     "id": "ff90aacd-57c5-47ab-ada8-c296187665f3",
     "prev": "193ab6ff-3bad-4284-9ebc-97dd97ea69b4",
     "regions": {
      "7605ae36-a1fb-4853-8d17-0751d99bee0a": {
       "attrs": {
        "height": 1,
        "width": 1,
        "x": 0,
        "y": 0
       },
       "content": {
        "cell": "483fbdd3-ed36-4f1c-b88b-5db0505a6591",
        "part": "source"
       },
       "id": "7605ae36-a1fb-4853-8d17-0751d99bee0a"
      }
     },
     "theme": "6c1d8fe0-c8e8-42bf-9fc4-b0c9aef0a79e"
    }
   },
   "themes": {
    "default": "44d1236c-550d-4131-aab5-67a92dcd9a7a",
    "theme": {
     "1348d10e-02a7-4d6c-962d-ea5a9a7b7223": {
      "id": "1348d10e-02a7-4d6c-962d-ea5a9a7b7223",
      "palette": {
       "19cc588f-0593-49c9-9f4b-e4d7cc113b1c": {
        "id": "19cc588f-0593-49c9-9f4b-e4d7cc113b1c",
        "rgb": [
         252,
         252,
         252
        ]
       },
       "31af15d2-7e15-44c5-ab5e-e04b16a89eff": {
        "id": "31af15d2-7e15-44c5-ab5e-e04b16a89eff",
        "rgb": [
         68,
         68,
         68
        ]
       },
       "50f92c45-a630-455b-aec3-788680ec7410": {
        "id": "50f92c45-a630-455b-aec3-788680ec7410",
        "rgb": [
         155,
         177,
         192
        ]
       },
       "c5cc3653-2ee1-402a-aba2-7caae1da4f6c": {
        "id": "c5cc3653-2ee1-402a-aba2-7caae1da4f6c",
        "rgb": [
         43,
         126,
         184
        ]
       },
       "efa7f048-9acb-414c-8b04-a26811511a21": {
        "id": "efa7f048-9acb-414c-8b04-a26811511a21",
        "rgb": [
         25.118061674008803,
         73.60176211453744,
         107.4819383259912
        ]
       }
      },
      "rules": {
       "blockquote": {
        "color": "50f92c45-a630-455b-aec3-788680ec7410"
       },
       "code": {
        "font-family": "Anonymous Pro"
       },
       "h1": {
        "color": "c5cc3653-2ee1-402a-aba2-7caae1da4f6c",
        "font-family": "Lato",
        "font-size": 8
       },
       "h2": {
        "color": "c5cc3653-2ee1-402a-aba2-7caae1da4f6c",
        "font-family": "Lato",
        "font-size": 6
       },
       "h3": {
        "color": "50f92c45-a630-455b-aec3-788680ec7410",
        "font-family": "Lato",
        "font-size": 5.5
       },
       "h4": {
        "color": "c5cc3653-2ee1-402a-aba2-7caae1da4f6c",
        "font-family": "Lato",
        "font-size": 5
       },
       "h5": {
        "font-family": "Lato"
       },
       "h6": {
        "font-family": "Lato"
       },
       "h7": {
        "font-family": "Lato"
       },
       "pre": {
        "font-family": "Anonymous Pro",
        "font-size": 4
       }
      },
      "text-base": {
       "font-family": "Merriweather",
       "font-size": 4
      }
     },
     "44d1236c-550d-4131-aab5-67a92dcd9a7a": {
      "backgrounds": {
       "dc7afa04-bf90-40b1-82a5-726e3cff5267": {
        "background-color": "31af15d2-7e15-44c5-ab5e-e04b16a89eff",
        "id": "dc7afa04-bf90-40b1-82a5-726e3cff5267"
       }
      },
      "id": "44d1236c-550d-4131-aab5-67a92dcd9a7a",
      "palette": {
       "19cc588f-0593-49c9-9f4b-e4d7cc113b1c": {
        "id": "19cc588f-0593-49c9-9f4b-e4d7cc113b1c",
        "rgb": [
         252,
         252,
         252
        ]
       },
       "31af15d2-7e15-44c5-ab5e-e04b16a89eff": {
        "id": "31af15d2-7e15-44c5-ab5e-e04b16a89eff",
        "rgb": [
         68,
         68,
         68
        ]
       },
       "50f92c45-a630-455b-aec3-788680ec7410": {
        "id": "50f92c45-a630-455b-aec3-788680ec7410",
        "rgb": [
         197,
         226,
         245
        ]
       },
       "c5cc3653-2ee1-402a-aba2-7caae1da4f6c": {
        "id": "c5cc3653-2ee1-402a-aba2-7caae1da4f6c",
        "rgb": [
         43,
         126,
         184
        ]
       },
       "efa7f048-9acb-414c-8b04-a26811511a21": {
        "id": "efa7f048-9acb-414c-8b04-a26811511a21",
        "rgb": [
         25.118061674008803,
         73.60176211453744,
         107.4819383259912
        ]
       }
      },
      "rules": {
       "a": {
        "color": "19cc588f-0593-49c9-9f4b-e4d7cc113b1c"
       },
       "blockquote": {
        "color": "50f92c45-a630-455b-aec3-788680ec7410",
        "font-size": 3
       },
       "code": {
        "font-family": "Anonymous Pro"
       },
       "h1": {
        "color": "19cc588f-0593-49c9-9f4b-e4d7cc113b1c",
        "font-family": "Merriweather",
        "font-size": 8
       },
       "h2": {
        "color": "19cc588f-0593-49c9-9f4b-e4d7cc113b1c",
        "font-family": "Merriweather",
        "font-size": 6
       },
       "h3": {
        "color": "50f92c45-a630-455b-aec3-788680ec7410",
        "font-family": "Lato",
        "font-size": 5.5
       },
       "h4": {
        "color": "c5cc3653-2ee1-402a-aba2-7caae1da4f6c",
        "font-family": "Lato",
        "font-size": 5
       },
       "h5": {
        "font-family": "Lato"
       },
       "h6": {
        "font-family": "Lato"
       },
       "h7": {
        "font-family": "Lato"
       },
       "li": {
        "color": "50f92c45-a630-455b-aec3-788680ec7410",
        "font-size": 3.25
       },
       "pre": {
        "font-family": "Anonymous Pro",
        "font-size": 4
       }
      },
      "text-base": {
       "color": "19cc588f-0593-49c9-9f4b-e4d7cc113b1c",
       "font-family": "Lato",
       "font-size": 4
      }
     },
     "6c1d8fe0-c8e8-42bf-9fc4-b0c9aef0a79e": {
      "backgrounds": {
       "backgroundColor": {
        "background-color": "backgroundColor",
        "id": "backgroundColor"
       }
      },
      "id": "6c1d8fe0-c8e8-42bf-9fc4-b0c9aef0a79e",
      "palette": {
       "backgroundColor": {
        "id": "backgroundColor",
        "rgb": [
         34,
         34,
         34
        ]
       },
       "headingColor": {
        "id": "headingColor",
        "rgb": [
         256,
         256,
         256
        ]
       },
       "linkColor": {
        "id": "linkColor",
        "rgb": [
         66,
         175,
         250
        ]
       },
       "mainColor": {
        "id": "mainColor",
        "rgb": [
         256,
         256,
         256
        ]
       }
      },
      "rules": {
       "a": {
        "color": "linkColor"
       },
       "h1": {
        "color": "headingColor",
        "font-family": "Source Sans Pro",
        "font-size": 5.25
       },
       "h2": {
        "color": "headingColor",
        "font-family": "Source Sans Pro",
        "font-size": 4
       },
       "h3": {
        "color": "headingColor",
        "font-family": "Source Sans Pro",
        "font-size": 3.5
       },
       "h4": {
        "color": "headingColor",
        "font-family": "Source Sans Pro",
        "font-size": 3
       },
       "h5": {
        "color": "headingColor",
        "font-family": "Source Sans Pro"
       },
       "h6": {
        "color": "headingColor",
        "font-family": "Source Sans Pro"
       },
       "h7": {
        "color": "headingColor",
        "font-family": "Source Sans Pro"
       },
       "li": {
        "color": "mainColor",
        "font-family": "Source Sans Pro",
        "font-size": 6
       },
       "p": {
        "color": "mainColor",
        "font-family": "Source Sans Pro",
        "font-size": 6
       }
      },
      "text-base": {
       "color": "mainColor",
       "font-family": "Source Sans Pro",
       "font-size": 6
      }
     },
     "7c075472-010e-47b5-b8d4-5ce5279d7a66": {
      "backgrounds": {
       "dc7afa04-bf90-40b1-82a5-726e3cff5267": {
        "background-color": "31af15d2-7e15-44c5-ab5e-e04b16a89eff",
        "id": "dc7afa04-bf90-40b1-82a5-726e3cff5267"
       }
      },
      "id": "7c075472-010e-47b5-b8d4-5ce5279d7a66",
      "palette": {
       "19cc588f-0593-49c9-9f4b-e4d7cc113b1c": {
        "id": "19cc588f-0593-49c9-9f4b-e4d7cc113b1c",
        "rgb": [
         252,
         252,
         252
        ]
       },
       "31af15d2-7e15-44c5-ab5e-e04b16a89eff": {
        "id": "31af15d2-7e15-44c5-ab5e-e04b16a89eff",
        "rgb": [
         68,
         68,
         68
        ]
       },
       "50f92c45-a630-455b-aec3-788680ec7410": {
        "id": "50f92c45-a630-455b-aec3-788680ec7410",
        "rgb": [
         197,
         226,
         245
        ]
       },
       "c5cc3653-2ee1-402a-aba2-7caae1da4f6c": {
        "id": "c5cc3653-2ee1-402a-aba2-7caae1da4f6c",
        "rgb": [
         43,
         126,
         184
        ]
       },
       "efa7f048-9acb-414c-8b04-a26811511a21": {
        "id": "efa7f048-9acb-414c-8b04-a26811511a21",
        "rgb": [
         25.118061674008803,
         73.60176211453744,
         107.4819383259912
        ]
       }
      },
      "rules": {
       "a": {
        "color": "19cc588f-0593-49c9-9f4b-e4d7cc113b1c"
       },
       "blockquote": {
        "color": "50f92c45-a630-455b-aec3-788680ec7410",
        "font-size": 3
       },
       "code": {
        "font-family": "Anonymous Pro"
       },
       "h1": {
        "color": "19cc588f-0593-49c9-9f4b-e4d7cc113b1c",
        "font-family": "Merriweather",
        "font-size": 8
       },
       "h2": {
        "color": "19cc588f-0593-49c9-9f4b-e4d7cc113b1c",
        "font-family": "Merriweather",
        "font-size": 6
       },
       "h3": {
        "color": "50f92c45-a630-455b-aec3-788680ec7410",
        "font-family": "Lato",
        "font-size": 5.5
       },
       "h4": {
        "color": "c5cc3653-2ee1-402a-aba2-7caae1da4f6c",
        "font-family": "Lato",
        "font-size": 5
       },
       "h5": {
        "font-family": "Lato"
       },
       "h6": {
        "font-family": "Lato"
       },
       "h7": {
        "font-family": "Lato"
       },
       "li": {
        "color": "50f92c45-a630-455b-aec3-788680ec7410",
        "font-size": 3.25
       },
       "pre": {
        "font-family": "Anonymous Pro",
        "font-size": 4
       }
      },
      "text-base": {
       "color": "19cc588f-0593-49c9-9f4b-e4d7cc113b1c",
       "font-family": "Lato",
       "font-size": 4
      }
     },
     "da9d6aeb-b688-4fb7-89f0-895fe3a0747b": {
      "backgrounds": {
       "dc7afa04-bf90-40b1-82a5-726e3cff5267": {
        "background-color": "31af15d2-7e15-44c5-ab5e-e04b16a89eff",
        "id": "dc7afa04-bf90-40b1-82a5-726e3cff5267"
       }
      },
      "id": "da9d6aeb-b688-4fb7-89f0-895fe3a0747b",
      "palette": {
       "19cc588f-0593-49c9-9f4b-e4d7cc113b1c": {
        "id": "19cc588f-0593-49c9-9f4b-e4d7cc113b1c",
        "rgb": [
         252,
         252,
         252
        ]
       },
       "31af15d2-7e15-44c5-ab5e-e04b16a89eff": {
        "id": "31af15d2-7e15-44c5-ab5e-e04b16a89eff",
        "rgb": [
         68,
         68,
         68
        ]
       },
       "50f92c45-a630-455b-aec3-788680ec7410": {
        "id": "50f92c45-a630-455b-aec3-788680ec7410",
        "rgb": [
         197,
         226,
         245
        ]
       },
       "c5cc3653-2ee1-402a-aba2-7caae1da4f6c": {
        "id": "c5cc3653-2ee1-402a-aba2-7caae1da4f6c",
        "rgb": [
         43,
         126,
         184
        ]
       },
       "efa7f048-9acb-414c-8b04-a26811511a21": {
        "id": "efa7f048-9acb-414c-8b04-a26811511a21",
        "rgb": [
         25.118061674008803,
         73.60176211453744,
         107.4819383259912
        ]
       }
      },
      "rules": {
       "a": {
        "color": "19cc588f-0593-49c9-9f4b-e4d7cc113b1c"
       },
       "blockquote": {
        "color": "50f92c45-a630-455b-aec3-788680ec7410",
        "font-size": 3
       },
       "code": {
        "font-family": "Anonymous Pro"
       },
       "h1": {
        "color": "19cc588f-0593-49c9-9f4b-e4d7cc113b1c",
        "font-family": "Merriweather",
        "font-size": 8
       },
       "h2": {
        "color": "19cc588f-0593-49c9-9f4b-e4d7cc113b1c",
        "font-family": "Merriweather",
        "font-size": 6
       },
       "h3": {
        "color": "50f92c45-a630-455b-aec3-788680ec7410",
        "font-family": "Lato",
        "font-size": 5.5
       },
       "h4": {
        "color": "c5cc3653-2ee1-402a-aba2-7caae1da4f6c",
        "font-family": "Lato",
        "font-size": 5
       },
       "h5": {
        "font-family": "Lato"
       },
       "h6": {
        "font-family": "Lato"
       },
       "h7": {
        "font-family": "Lato"
       },
       "li": {
        "color": "50f92c45-a630-455b-aec3-788680ec7410",
        "font-size": 3.25
       },
       "pre": {
        "font-family": "Anonymous Pro",
        "font-size": 4
       }
      },
      "text-base": {
       "color": "19cc588f-0593-49c9-9f4b-e4d7cc113b1c",
       "font-family": "Lato",
       "font-size": 4
      }
     },
     "f2191c82-26b4-4e6c-ae25-074892262588": {
      "id": "f2191c82-26b4-4e6c-ae25-074892262588",
      "palette": {
       "19cc588f-0593-49c9-9f4b-e4d7cc113b1c": {
        "id": "19cc588f-0593-49c9-9f4b-e4d7cc113b1c",
        "rgb": [
         252,
         252,
         252
        ]
       },
       "31af15d2-7e15-44c5-ab5e-e04b16a89eff": {
        "id": "31af15d2-7e15-44c5-ab5e-e04b16a89eff",
        "rgb": [
         68,
         68,
         68
        ]
       },
       "50f92c45-a630-455b-aec3-788680ec7410": {
        "id": "50f92c45-a630-455b-aec3-788680ec7410",
        "rgb": [
         155,
         177,
         192
        ]
       },
       "c5cc3653-2ee1-402a-aba2-7caae1da4f6c": {
        "id": "c5cc3653-2ee1-402a-aba2-7caae1da4f6c",
        "rgb": [
         43,
         126,
         184
        ]
       },
       "efa7f048-9acb-414c-8b04-a26811511a21": {
        "id": "efa7f048-9acb-414c-8b04-a26811511a21",
        "rgb": [
         25.118061674008803,
         73.60176211453744,
         107.4819383259912
        ]
       }
      },
      "rules": {
       "blockquote": {
        "color": "50f92c45-a630-455b-aec3-788680ec7410"
       },
       "code": {
        "font-family": "Anonymous Pro"
       },
       "h1": {
        "color": "c5cc3653-2ee1-402a-aba2-7caae1da4f6c",
        "font-family": "Lato",
        "font-size": 8
       },
       "h2": {
        "color": "c5cc3653-2ee1-402a-aba2-7caae1da4f6c",
        "font-family": "Lato",
        "font-size": 6
       },
       "h3": {
        "color": "50f92c45-a630-455b-aec3-788680ec7410",
        "font-family": "Lato",
        "font-size": 5.5
       },
       "h4": {
        "color": "c5cc3653-2ee1-402a-aba2-7caae1da4f6c",
        "font-family": "Lato",
        "font-size": 5
       },
       "h5": {
        "font-family": "Lato"
       },
       "h6": {
        "font-family": "Lato"
       },
       "h7": {
        "font-family": "Lato"
       },
       "pre": {
        "font-family": "Anonymous Pro",
        "font-size": 4
       }
      },
      "text-base": {
       "font-family": "Merriweather",
       "font-size": 4
      }
     }
    }
   }
  }
 },
 "nbformat": 4,
 "nbformat_minor": 0
}
